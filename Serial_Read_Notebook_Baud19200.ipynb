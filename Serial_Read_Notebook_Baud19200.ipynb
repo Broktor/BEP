{
 "cells": [
  {
   "cell_type": "markdown",
   "metadata": {
    "collapsed": false,
    "nbpresent": {
     "id": "5928fe75-1240-4400-998a-99020e41f323"
    }
   },
   "source": [
    "# Serial read from arduino to graph\n",
    "\n",
    "#### Instructions: \n",
    "1. Run first two cells below. \n",
    "2. Fill in widgets for required testing. \n",
    "3. Run execute script\n",
    "4. Repeat step 2\n",
    "\n",
    "\n",
    "#### User notes:  \n",
    "- This script is written on Windows 10. Embrace yourself for several errors when using a different OS.\n",
    "- There is a small delay in the code and therefore approximately 1.5 seconds is taken off the original chosen duration. (working on a fix)\n",
    "- When executing multiple measurements in a row it sometimes occurs that ydata gets out of range (working on a fix). When this occurs, please reset the kernel & clear output.\n",
    "- The CSV select bar searches for CSV files on your C: drive. No C: drive or files saved on other drive? Please adjust C: in first cell.\n",
    "- When choosing unlimited duration on measurement. Depending on your OS and  pressing the following key(s) on your keyboard:\n",
    "  - 2 times 'i' OR\n",
    "  - cntrl+c   OR\n",
    "  - delete\n",
    "\n",
    "- The final plot contains four slider bars and a reset button:\n",
    " - [Alpha] Change Alpha value between 0.9 and 0.999 \n",
    " - [Beta]  Change Beta value between 0.9 and 0.999 \n",
    " - [Zoom]  Change ∆x on x - axis. From 5 seconds up to max timeframe.\n",
    " - [Pos]   Change x position on x-axis. From 0 to last second.\n",
    "- Please set plot window to full size for correct use of sliderbars and buttons.\n",
    "\n",
    "\n",
    "\n",
    "\n",
    "\n",
    "Please report any bugs to author:\n",
    "victor@stoeten.eu\n"
   ]
  },
  {
   "cell_type": "code",
   "execution_count": 28,
   "metadata": {
    "collapsed": false,
    "nbpresent": {
     "id": "72f95132-aefb-49b5-8561-803f740fd0de"
    }
   },
   "outputs": [],
   "source": [
    "#import all needed libraries. In case one is missing > install via command by pasting line behind. [Windows only]\n",
    "import serial                                     #pip install pyserial \n",
    "import os                                         #Standard library in Python\n",
    "import csv                                        #Standard library in Python\n",
    "from time import time                             #Standard library in Python\n",
    "import datetime                                   #pip install DateTime   - standard library\n",
    "import ipywidgets as widget                       #pip install ipywidgets - Big chance one will have this due to bouwplaats\n",
    "from IPython.display import Javascript,display    #pip install ipython    - Big chance one will have this due to bouwplaats\n",
    "from matplotlib import pyplot as plt              #pip install matplotlib - Big chance one will have this due to bouwplaats\n",
    "from matplotlib.widgets import Slider, Button\n",
    "\n",
    "#Remove if you want plots on seperate window. However this works better with the interactive plot at end of notebook\n",
    "#%matplotlib inline                                \n",
    "\n",
    "#Define functions\n",
    "#Some functions for finding files in own directory and deleting files\n",
    "def Csvfind(path_to_dir, suffix=\".csv\"):\n",
    "    filenames = os.listdir(path_to_dir)           # save filenames in list [filenames]\n",
    "    return [ filename for filename in filenames if filename.endswith( suffix ) ]\n",
    "\n",
    "#To find all .csv files on your pc saved at C: drive.\n",
    "filenames = Csvfind(\"C:\")  \n",
    "\n",
    "# Delete a certain file by typing: Deletefile(\"filename.csv\") \n",
    "def Deletefile(Delfilename):\n",
    "    os.remove(Delfilename)\n",
    "\n",
    "#function to run all cells below selected cell.\n",
    "def Run_all(ev):\n",
    "    \n",
    "    display(Javascript('IPython.notebook.execute_cell_range(IPython.notebook.get_selected_index()+1, IPython.notebook.ncells())'))"
   ]
  },
  {
   "cell_type": "code",
   "execution_count": 29,
   "metadata": {
    "collapsed": false,
    "nbpresent": {
     "id": "2f6ca651-b9cf-4cbc-900f-9425434db033"
    }
   },
   "outputs": [
    {
     "data": {
      "application/javascript": [
       "IPython.notebook.execute_cell_range(IPython.notebook.get_selected_index()+1, IPython.notebook.ncells())"
      ],
      "text/plain": [
       "<IPython.core.display.Javascript object>"
      ]
     },
     "metadata": {},
     "output_type": "display_data"
    }
   ],
   "source": [
    "#Decimals on Y-data and time-data. Highly impacts size of savefiles!\n",
    "decimalsy = 5\n",
    "decimalstime = 5\n",
    "\n",
    "#alignment settings of all widgets\n",
    "align= dict(_css = (('.widget-label', 'min-width', '15ex'),),margin = '0px 0px 5px 22px')                          #Create better layout for widgets\n",
    "\n",
    "#Create widgets\n",
    "Limiteddur = widget.RadioButtons(options=['Yes', 'No'],description='Limited duration :',value='No', disabled=False, **align)  #Save file or not?\n",
    "Tijd = widget.IntText(value='10', description='Duration [s]:',disabled=False, **align)                             #Choose duration of measurement\n",
    "Save = widget.RadioButtons(options=['Yes', 'No'],description='Save file:', disabled=False, **align)                #Save file or not?\n",
    "Testname = widget.Text(value='',placeholder='Type here',description='Save file as:',disabled=False, **align)       #Save file as:... +datestamp\n",
    "Import = widget.RadioButtons(options=['Yes', 'No'],value='No',description='Import data:', disabled=False, **align) #Import data? -> no measurement is done\n",
    "Importname = widget.Dropdown(options=filenames,description='File name:',disabled=False, **align)                   #Choose file you want to import\n",
    "\n",
    "#Display widgets\n",
    "display(Limiteddur,Tijd,Save,Testname,Import,Importname)\n",
    "\n",
    "\n",
    "#Run button\n",
    "button = widget.Button(description=\"Execute script\", button_style='danger', **dict(_css = (('.widget-label', 'min-width', '15ex'),),margin = '50px 200px 20px 200px')) \n",
    "button.on_click(Run_all)                                                                                           #runs function run all\n",
    "display(button)\n"
   ]
  },
  {
   "cell_type": "markdown",
   "metadata": {},
   "source": [
    "#### Process all chosen values in widgets and write them to scriptsvariables below."
   ]
  },
  {
   "cell_type": "code",
   "execution_count": 30,
   "metadata": {
    "collapsed": false,
    "nbpresent": {
     "id": "8537dd71-cb5b-43ad-b672-3d206f2b0bf9"
    }
   },
   "outputs": [],
   "source": [
    "limdur = Limiteddur.value                      \n",
    "savedata = Save.value\n",
    "name = Testname.value\n",
    "importdata = Import.value\n",
    "namefile = str(Importname.value)\n",
    "\n",
    "if limdur == str('No'):\n",
    "    duration = 99999999  #creating an \"unlimited\" amount of time of three years.\n",
    "else:\n",
    "    duration = Tijd.value"
   ]
  },
  {
   "cell_type": "markdown",
   "metadata": {},
   "source": [
    "#### Import data or take measurement"
   ]
  },
  {
   "cell_type": "code",
   "execution_count": 31,
   "metadata": {
    "collapsed": false,
    "nbpresent": {
     "id": "62908e93-1bc0-4c57-9e74-a20799c2d830"
    },
    "scrolled": false
   },
   "outputs": [
    {
     "ename": "IndexError",
     "evalue": "list index out of range",
     "output_type": "error",
     "traceback": [
      "\u001b[1;31m---------------------------------------------------------------------------\u001b[0m",
      "\u001b[1;31mIndexError\u001b[0m                                Traceback (most recent call last)",
      "\u001b[1;32m<ipython-input-31-1053a064aa7d>\u001b[0m in \u001b[0;36m<module>\u001b[1;34m()\u001b[0m\n\u001b[0;32m     32\u001b[0m         \u001b[1;32mwhile\u001b[0m \u001b[1;32mTrue\u001b[0m\u001b[1;33m:\u001b[0m\u001b[1;33m\u001b[0m\u001b[0m\n\u001b[0;32m     33\u001b[0m             \u001b[0mline\u001b[0m \u001b[1;33m=\u001b[0m \u001b[0mser\u001b[0m\u001b[1;33m.\u001b[0m\u001b[0mreadline\u001b[0m\u001b[1;33m(\u001b[0m\u001b[1;33m)\u001b[0m\u001b[1;33m.\u001b[0m\u001b[0msplit\u001b[0m\u001b[1;33m(\u001b[0m\u001b[1;33m)\u001b[0m\u001b[1;33m;\u001b[0m                              \u001b[1;31m# Removes letters from serial input\u001b[0m\u001b[1;33m\u001b[0m\u001b[0m\n\u001b[1;32m---> 34\u001b[1;33m             \u001b[0mydata\u001b[0m\u001b[1;33m.\u001b[0m\u001b[0mappend\u001b[0m\u001b[1;33m(\u001b[0m\u001b[0mround\u001b[0m\u001b[1;33m(\u001b[0m\u001b[0mfloat\u001b[0m\u001b[1;33m(\u001b[0m\u001b[0mline\u001b[0m\u001b[1;33m[\u001b[0m\u001b[1;36m0\u001b[0m\u001b[1;33m]\u001b[0m\u001b[1;33m)\u001b[0m\u001b[1;33m*\u001b[0m\u001b[1;36m5.5\u001b[0m\u001b[1;33m/\u001b[0m\u001b[1;36m1024\u001b[0m\u001b[1;33m,\u001b[0m\u001b[0mdecimalsy\u001b[0m\u001b[1;33m)\u001b[0m\u001b[1;33m)\u001b[0m      \u001b[1;31m# Creates floatingpoint of serial input and appends it to ydata list\u001b[0m\u001b[1;33m\u001b[0m\u001b[0m\n\u001b[0m\u001b[0;32m     35\u001b[0m             \u001b[0mtimepoints\u001b[0m\u001b[1;33m.\u001b[0m\u001b[0mappend\u001b[0m\u001b[1;33m(\u001b[0m\u001b[0mround\u001b[0m\u001b[1;33m(\u001b[0m\u001b[0mtime\u001b[0m\u001b[1;33m(\u001b[0m\u001b[1;33m)\u001b[0m\u001b[1;33m-\u001b[0m\u001b[0mstart_time\u001b[0m\u001b[1;33m,\u001b[0m\u001b[0mdecimalstime\u001b[0m\u001b[1;33m)\u001b[0m\u001b[1;33m)\u001b[0m    \u001b[1;31m# Creates floatingpoint timestamp and appends it to timepoints list\u001b[0m\u001b[1;33m\u001b[0m\u001b[0m\n\u001b[0;32m     36\u001b[0m             \u001b[0mcurrent_time\u001b[0m \u001b[1;33m=\u001b[0m \u001b[0mtimepoints\u001b[0m\u001b[1;33m[\u001b[0m\u001b[1;33m-\u001b[0m\u001b[1;36m1\u001b[0m\u001b[1;33m]\u001b[0m                               \u001b[1;31m#\u001b[0m\u001b[1;33m\u001b[0m\u001b[0m\n",
      "\u001b[1;31mIndexError\u001b[0m: list index out of range"
     ]
    }
   ],
   "source": [
    "#import data when import date is chosen\n",
    "if importdata == str('Yes'):\n",
    "    savedata = str('No')\n",
    "    ydata=[]\n",
    "    timepoints=[]\n",
    "    duration= []\n",
    "\n",
    "    with open(namefile) as csvDataFile:\n",
    "        csvReader = csv.reader(csvDataFile)\n",
    "        duration = (float(next(csvReader)[2]))\n",
    "        for row in csvReader:\n",
    "            timepoints.append(float(row[0]))\n",
    "            ydata.append(float(row[1]))\n",
    "\n",
    "#Executes measurement\n",
    "else:\n",
    "    #Define the input of arduino:\n",
    "    serial_port = 'Com10';\n",
    "    baud_rate = 19200;\n",
    "    ser = serial.Serial(serial_port, baud_rate)\n",
    "\n",
    "    #Define variables:\n",
    "    timepoints = [0]\n",
    "    ydata = []\n",
    "    run = True\n",
    "    start_time = time()\n",
    "    progress = widget.FloatProgress(min=0, max=duration*baud_rate/47)   #progressbar, only progresses with pre-determined duration\n",
    "    display(progress)\n",
    "\n",
    "    #Append values of Ydata and time to lists.\n",
    "    try:\n",
    "        while True:\n",
    "            line = ser.readline().split();                              # Removes letters from serial input\n",
    "            ydata.append(round(float(line[0])*5.5/1024,decimalsy))      # Creates floatingpoint of serial input and appends it to ydata list\n",
    "            timepoints.append(round(time()-start_time,decimalstime))    # Creates floatingpoint timestamp and appends it to timepoints list\n",
    "            current_time = timepoints[-1]                               # \n",
    "            progress.value += 1                                         # +1 tick on progressbar\n",
    "            if timepoints[-1] > duration: break                         # KAN MOGELIJK WORDEN WEGGEHAALD!\n",
    "    except KeyboardInterrupt:\n",
    "        pass\n",
    "    \n",
    "    duration = timepoints[-1]                                           # Duration actual total duration incl. delay.\n",
    "    \n",
    "    ser.close()                                                         # Shut down serial input\n",
    "    \n",
    "    #Removes abnormal first value of created dataset. This sometimes happens and sometimes not.\n",
    "    if timepoints[0] == 0: \n",
    "        ydata = ydata[1:]\n",
    "        timepoints = timepoints[1:-1]"
   ]
  },
  {
   "cell_type": "markdown",
   "metadata": {},
   "source": [
    "#### Save the data"
   ]
  },
  {
   "cell_type": "code",
   "execution_count": null,
   "metadata": {
    "collapsed": false,
    "nbpresent": {
     "id": "63ae4193-6f8d-4eb9-a1cc-4db590067aaf"
    }
   },
   "outputs": [],
   "source": [
    "if savedata == str('Yes'): \n",
    "    now = datetime.datetime.now()\n",
    "    now2 = (now.strftime(\"%Y_%m_%d_%H_%M\"))\n",
    "    \n",
    "    with open(str(now2)+ \"_\" +str(name)+\".csv\",\"w\") as out_file:\n",
    "        out_string = \" \"                                            # First line of file contains duration, therefor done seperate.\n",
    "        out_string += str(timepoints[0])                            # \n",
    "        out_string += \",\" + str(ydata[0])\n",
    "        out_string += \",\" +str(duration)\n",
    "        out_string += \"\\n\"\n",
    "        out_file.write(out_string)\n",
    "        for i in range(len(ydata)-1):                               # Rest of lines done with loop.\n",
    "            out_string = \" \"\n",
    "            out_string += str(timepoints[i+1])\n",
    "            out_string += \",\" + str(ydata[i+1])\n",
    "            out_string += \"\\n\"\n",
    "            out_file.write(out_string)\n",
    "    namefile = str(now2)+ \"_\" +str(name)+\".csv\"\n"
   ]
  },
  {
   "cell_type": "markdown",
   "metadata": {},
   "source": [
    "#### Calculate drops and create interactive plot to determine Alpha (and Beta) for auto regression."
   ]
  },
  {
   "cell_type": "code",
   "execution_count": null,
   "metadata": {
    "collapsed": false,
    "nbpresent": {
     "id": "63b9370a-943d-4a57-a96c-7d5d029bb3ae"
    }
   },
   "outputs": [],
   "source": [
    "counter = 0\n",
    "for i in range(len(ydata)):\n",
    "    if ydata[i-1] > 0.5 and ydata[i] < ydata[i-1] > ydata[i-2]:                                   #Top when datapoint is larger than last and following datapoint. > 0.5 to remove noise tops. \n",
    "        counter += 1    \n",
    "\n",
    "#correction of time. Removes the ~1.5 seconds at start\n",
    "real_duration = duration - timepoints[0]        \n",
    "        \n",
    "# Set up figures\n",
    "fig, ax = plt.subplots()\n",
    "\n",
    "plt.subplots_adjust(bottom=0.25)\n",
    "ax.axis([timepoints[1],timepoints[-1],-0.1,4])\n",
    "plt.suptitle(('Name: {}  Drops counted:{}'.format((namefile[:-4]),counter)), fontsize='18', fontweight='bold')\n",
    "plt.xlabel('Time [s]', fontsize='14', fontstyle='italic')\n",
    "plt.ylabel('Potential [V]', fontsize='14', fontstyle='italic')\n",
    "plt.ylim([-0.1,4])\n",
    "    \n",
    "# New time dataset, removes first datapoint since \n",
    "timepoints2= timepoints[1:]                                                                     #removes first value of timepoints, since autoregression can only start from i=1\n",
    "timepoints3= timepoints2[1:]                                                                    #removes first value of timepoints2, since autoregression can only start from i=1\n",
    "\n",
    "#Initial values for ALpha and Beta for auto regression steps.\n",
    "Alpha1 = 0.9895\n",
    "Beta1 = 0.9805\n",
    "\n",
    "#First auto regression of ydata.\n",
    "ynew = [0]\n",
    "for i in range(len(ydata)-2):\n",
    "    ynew.append(Alpha1*ynew[i] + (1-Alpha1)*ydata[i+1])\n",
    "        \n",
    "#Double auto regression, auto regresses over first auto regression \n",
    "#Not sure if this is correct, but surely gives a smoother graph than first autoregression\n",
    "Double = [0]\n",
    "for i in range(len(ynew)-2):\n",
    "    Double.append(Beta1*Double[i] + (1-Beta1)*ynew[i+1])\n",
    "    \n",
    "Singlesecond = [0]\n",
    "for i in range(len(ynew)-2):\n",
    "    #Singlesecond.append(Beta1*Singlesecond[i] + ((Alpha1*ynew[i] + (1*ydata[i+1]-Alpha1*ydata[i+1]) - Beta1*Alpha1*ynew[i] - (Beta1*ydata[i+1]-Alpha1*Beta1*ydata[i+1]))))\n",
    "    Singlesecond.append(Beta1*Singlesecond[i] + (1-Beta1)*Alpha1*ynew[i] + (1-Alpha1-Beta1+Alpha1*Beta1)*ydata[i+1])\n",
    "    #Singlesecond.append(Beta1*Singlesecond[i] + (1-Beta1)*Alpha1*Singlesecond[i-1] + (1-Alpha1-Beta1+Alpha1*Beta1)*ydata[i+1])\n",
    "    #Singlesecond.append((Beta1*Singlesecond[i] + ((1-Alpha1-Beta1+Alpha1*Beta1)*ydata[i+1]) \n",
    "    #                    + ((-Alpha1 -Alpha1**2 +Alpha1*Beta1 +Beta1*Alpha1**2)*ydata[i+1]) \n",
    "    #                    + ((-Alpha1*Singlesecond[i]+Alpha1*Beta1**2 *Singlesecond[i])/(1-Beta1)))\n",
    "    #                    /(1-(Alpha1/(1-Beta1))+((Alpha1*Beta1)/(1-Beta1))))\n",
    "#print(Singlesecond)\n",
    "    \n",
    "#Graph both lines in plot\n",
    "plt.plot(timepoints, ydata,marker='.',markersize=2,linestyle='-',markerfacecolor='red',         #Plots ydata\n",
    "        color='blue', alpha=0.4, label='Y-data')\n",
    "Singlereg, = plt.plot(timepoints2, ynew, linestyle='-', label='Single reg',\n",
    "                      markerfacecolor='green',color='green', alpha=0.8)                         # Plot first autoregression\n",
    "Doublereg, = plt.plot(timepoints3, Double, linestyle='-',\n",
    "                      markerfacecolor='black',color='red', label='Double reg')                                      # Plot second autoregression\n",
    "Singlesecondreg, = plt.plot(timepoints3, Singlesecond, linestyle='-',\n",
    "                      markerfacecolor='black',color='black', label='Total reg')\n",
    "plt.axhline(y=0.5, color='r', linestyle='-',alpha = 0.2)                                        # Plots horizontal line to visualize the noise filter.\n",
    "\n",
    "plt.legend() \n",
    "    \n",
    "#Sliders build up\n",
    "axpos = plt.axes([0.125, 0.05, 0.65, 0.025], axisbg='grey')\n",
    "axBeta  = plt.axes([0.125, 0.13, 0.65, 0.025], axisbg='grey')\n",
    "axAlpha = plt.axes([0.125, 0.17, 0.65, 0.025], axisbg='grey')\n",
    "axzoom = plt.axes([0.125, 0.09, 0.65, 0.025], axisbg='grey')\n",
    "\n",
    "    \n",
    "#Sliders settings\n",
    "szoom = Slider(axzoom, 'Zoom', 2, timepoints[-1],timepoints[-1])\n",
    "spos = Slider(axpos, 'Pos', timepoints[0], timepoints[-1])\n",
    "sAlpha = Slider(axAlpha, 'Alpha', 0.9, 0.999, Alpha1)\n",
    "sBeta = Slider(axBeta, 'Beta', 0.9, 0.999, Beta1)\n",
    "\n",
    "#Run update of values\n",
    "def update(val):\n",
    "    Beta = sBeta.val                                                                            # Update beta value\n",
    "    Alpha = sAlpha.val                                                                          # Update Alpha value\n",
    "    ynew = [0]\n",
    "    for i in range(len(ydata)-2):                                                               # Update of 1st regression\n",
    "        ynew.append(Alpha*ynew[i] + (1-Alpha)*ydata[i+1])\n",
    "    Double = [0]\n",
    "    for i in range(len(ynew)-2):                                                                # Update of 2nd regression\n",
    "        Double.append(Beta*Double[i] + (1-Beta)*ynew[i+1])\n",
    "    #Singlesecond = [0]\n",
    "    #for i in range(len(ynew)-2):\n",
    "    #    Singlesecond.append(Beta*Double[i]+(1-Beta)*(Alpha*ynew[i]+(1-Alpha)*ydata[i+1]))\n",
    "    Singlereg.set_ydata(ynew)\n",
    "    Doublereg.set_ydata(Double)\n",
    "    Singlesecondreg.set_ydata(Singlesecond)\n",
    "    zoom = szoom.val\n",
    "    pos = spos.val\n",
    "    ax.axis([pos,pos+zoom,-0.1,4])\n",
    "    fig.canvas.draw_idle()\n",
    "    \n",
    "#Reset button\n",
    "resetax = plt.axes([0.83, 0.05, 0.07, 0.03])\n",
    "buttonall = Button(resetax, 'Reset all', color='grey', hovercolor='0.975')\n",
    "buttonAB = Button(plt.axes([0.83, 0.13, 0.07, 0.03]), 'Reset alpha beta', color='grey', hovercolor='0.975')\n",
    "\n",
    "def resetab(event):\n",
    "    sBeta.reset()\n",
    "    sAlpha.reset()\n",
    "\n",
    "def resetall(event):\n",
    "    sBeta.reset()\n",
    "    sAlpha.reset()\n",
    "    szoom.reset()\n",
    "    spos.reset()\n",
    "    ax.axis([timepoints[1],timepoints[-1],-0.1,4])\n",
    "\n",
    "#Update when bars are used\n",
    "spos.on_changed(update)\n",
    "sAlpha.on_changed(update)\n",
    "sBeta.on_changed(update)\n",
    "szoom.on_changed(update)\n",
    "\n",
    "#Reset when button pressed. This sometimes takes a while\n",
    "buttonall.on_clicked(resetall)\n",
    "buttonAB.on_clicked(resetab)\n",
    "    \n",
    "#Show plot\n",
    "plt.show()"
   ]
  },
  {
   "cell_type": "code",
   "execution_count": null,
   "metadata": {
    "collapsed": false,
    "nbpresent": {
     "id": "0d0082b9-7b63-48d5-bdcd-be16877cd1cf"
    },
    "scrolled": true
   },
   "outputs": [],
   "source": [
    "Javascript('IPython.notebook.execute_cell_range(1,3)') #runs first two cells to update the list of csv files.\n"
   ]
  },
  {
   "cell_type": "code",
   "execution_count": null,
   "metadata": {
    "collapsed": false
   },
   "outputs": [],
   "source": [
    "#len(timepoints)/timepoints[-1]"
   ]
  },
  {
   "cell_type": "code",
   "execution_count": null,
   "metadata": {
    "collapsed": true
   },
   "outputs": [],
   "source": [
    "ser.close()\n"
   ]
  },
  {
   "cell_type": "code",
   "execution_count": null,
   "metadata": {
    "collapsed": true
   },
   "outputs": [],
   "source": []
  }
 ],
 "metadata": {
  "anaconda-cloud": {},
  "kernelspec": {
   "display_name": "Python [Root]",
   "language": "python",
   "name": "Python [Root]"
  },
  "language_info": {
   "codemirror_mode": {
    "name": "ipython",
    "version": 3
   },
   "file_extension": ".py",
   "mimetype": "text/x-python",
   "name": "python",
   "nbconvert_exporter": "python",
   "pygments_lexer": "ipython3",
   "version": "3.5.2"
  },
  "nbpresent": {
   "slides": {
    "00153c0b-8dad-4af7-885e-858ea463a37d": {
     "id": "00153c0b-8dad-4af7-885e-858ea463a37d",
     "prev": "01311f6d-4fd0-4b89-9c31-3bdda1205b77",
     "regions": {
      "cf376928-5154-4053-a91a-60f49ca94b6a": {
       "attrs": {
        "height": 0.8,
        "width": 0.8,
        "x": 0.1,
        "y": 0.1
       },
       "content": {
        "cell": "72f95132-aefb-49b5-8561-803f740fd0de",
        "part": "whole"
       },
       "id": "cf376928-5154-4053-a91a-60f49ca94b6a"
      }
     }
    },
    "01311f6d-4fd0-4b89-9c31-3bdda1205b77": {
     "id": "01311f6d-4fd0-4b89-9c31-3bdda1205b77",
     "prev": null,
     "regions": {
      "38b71d21-6524-4271-8bcf-ea1ef37a3732": {
       "attrs": {
        "height": 0.8,
        "width": 0.8,
        "x": 0.1,
        "y": 0.1
       },
       "content": {
        "cell": "5928fe75-1240-4400-998a-99020e41f323",
        "part": "whole"
       },
       "id": "38b71d21-6524-4271-8bcf-ea1ef37a3732"
      }
     }
    },
    "0f46e64a-07b0-4dff-b9a1-d82c5a00433a": {
     "id": "0f46e64a-07b0-4dff-b9a1-d82c5a00433a",
     "prev": "00153c0b-8dad-4af7-885e-858ea463a37d",
     "regions": {
      "afba2c4c-4a1e-42e6-80c6-c7f94acaf28d": {
       "attrs": {
        "height": 0.8,
        "width": 0.8,
        "x": 0.1,
        "y": 0.1
       },
       "content": {
        "cell": "2f6ca651-b9cf-4cbc-900f-9425434db033",
        "part": "whole"
       },
       "id": "afba2c4c-4a1e-42e6-80c6-c7f94acaf28d"
      }
     }
    },
    "192d36f0-2bec-4d00-8a43-a4009c5c3a42": {
     "id": "192d36f0-2bec-4d00-8a43-a4009c5c3a42",
     "prev": "9690f206-312f-47b8-bb34-aec26491e24f",
     "regions": {}
    },
    "21300933-c8bb-4127-b9ef-f9653d969d85": {
     "id": "21300933-c8bb-4127-b9ef-f9653d969d85",
     "prev": "f81b92ce-c3ee-474a-8c6a-565c31373b18",
     "regions": {
      "00eea4ac-1711-4746-b2ab-b4d328cef864": {
       "attrs": {
        "height": 0.8,
        "width": 0.8,
        "x": 0.1,
        "y": 0.1
       },
       "content": {
        "cell": "63ae4193-6f8d-4eb9-a1cc-4db590067aaf",
        "part": "whole"
       },
       "id": "00eea4ac-1711-4746-b2ab-b4d328cef864"
      }
     }
    },
    "9690f206-312f-47b8-bb34-aec26491e24f": {
     "id": "9690f206-312f-47b8-bb34-aec26491e24f",
     "prev": "ac548234-5d1c-4622-a026-8030b09dbc26",
     "regions": {}
    },
    "ac548234-5d1c-4622-a026-8030b09dbc26": {
     "id": "ac548234-5d1c-4622-a026-8030b09dbc26",
     "prev": "21300933-c8bb-4127-b9ef-f9653d969d85",
     "regions": {
      "edd1688c-1d31-4765-9730-3153784995f0": {
       "attrs": {
        "height": 0.8,
        "width": 0.8,
        "x": 0.1,
        "y": 0.1
       },
       "content": {
        "cell": "63b9370a-943d-4a57-a96c-7d5d029bb3ae",
        "part": "whole"
       },
       "id": "edd1688c-1d31-4765-9730-3153784995f0"
      }
     }
    },
    "da088cad-1cbd-4dfd-a1a9-54a2e0db2598": {
     "id": "da088cad-1cbd-4dfd-a1a9-54a2e0db2598",
     "prev": "0f46e64a-07b0-4dff-b9a1-d82c5a00433a",
     "regions": {
      "20d15c6e-8cc1-4160-a9ef-21d1f5b5b785": {
       "attrs": {
        "height": 0.8,
        "width": 0.8,
        "x": 0.1,
        "y": 0.1
       },
       "content": {
        "cell": "8537dd71-cb5b-43ad-b672-3d206f2b0bf9",
        "part": "whole"
       },
       "id": "20d15c6e-8cc1-4160-a9ef-21d1f5b5b785"
      }
     }
    },
    "f81b92ce-c3ee-474a-8c6a-565c31373b18": {
     "id": "f81b92ce-c3ee-474a-8c6a-565c31373b18",
     "prev": "da088cad-1cbd-4dfd-a1a9-54a2e0db2598",
     "regions": {
      "e5ab5fbe-0269-4685-8f64-96aa23f6f0a7": {
       "attrs": {
        "height": 0.8,
        "width": 0.8,
        "x": 0.1,
        "y": 0.1
       },
       "content": {
        "cell": "62908e93-1bc0-4c57-9e74-a20799c2d830",
        "part": "whole"
       },
       "id": "e5ab5fbe-0269-4685-8f64-96aa23f6f0a7"
      }
     }
    }
   },
   "themes": {}
  }
 },
 "nbformat": 4,
 "nbformat_minor": 0
}
